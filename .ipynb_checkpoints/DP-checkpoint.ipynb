{
 "cells": [
  {
   "cell_type": "code",
   "execution_count": 1,
   "metadata": {},
   "outputs": [],
   "source": [
    "import numpy as np\n",
    "import math\n",
    "import matplotlib.pyplot as plt\n",
    "import seaborn as sns"
   ]
  },
  {
   "cell_type": "code",
   "execution_count": 94,
   "metadata": {},
   "outputs": [],
   "source": [
    "class WordSpeechRecognition:\n",
    "    def __init__(self):\n",
    "        pass\n",
    "    \n",
    "    def dataSet(self, talker, talkNum):\n",
    "        data = []\n",
    "        info = []\n",
    "        talker = str(talker)\n",
    "        talkNum = str(talkNum)\n",
    "        for wordNum in range(100):\n",
    "            fileName = \"city0\" + talker + talkNum + \"/city0\" + talker + talkNum + \"_\" + \"{:0=3}\".format(wordNum + 1) + \".txt\"\n",
    "            f = open(fileName)\n",
    "            textList = f.read().split() # データ読み込み\n",
    "\n",
    "            info.append(textList[0 : 3]) # 情報部分抽出\n",
    "            frame = int(textList[2]) # フレーム数格納\n",
    "            strData = textList[3 : len(textList)] # データ部分抽出\n",
    "            numData = list(map(float, strData)) # floatに変換\n",
    "            arrayData = np.array(numData) # 行列にする\n",
    "\n",
    "            tempData = list(np.reshape(arrayData, (frame, 15))) # データをフレームごとに分ける\n",
    "            data.append(tempData) # 100個の行列のリストを作る\n",
    "            \n",
    "        f.close()\n",
    "        return data, info\n",
    "        \n",
    "    def CalcDistance(self, wordNum1, wordNum2, data1, data2):        \n",
    "        line = int(data1[1][wordNum1][2])\n",
    "        row = int(data2[1][wordNum2][2])\n",
    "        d = np.zeros((line, row))\n",
    "        \n",
    "        for i in range(line):\n",
    "            for j in range(row):\n",
    "                sum = 0\n",
    "                for k in range(15):\n",
    "                    sum += (data1[0][wordNum1][i][k] - data2[0][wordNum2][j][k]) ** 2\n",
    "                \n",
    "                d[i][j] = math.sqrt(sum)\n",
    "\n",
    "        return d\n",
    "                \n",
    "    def DPmatching(self, d):\n",
    "        lens = d.shape\n",
    "        g = np.zeros(lens)\n",
    "        g[0][0] = d[0][0]\n",
    "\n",
    "        for i in range(1, lens[0]):\n",
    "            g[i][0] = g[i - 1][0] + d[i][0]\n",
    "        for j in range(1, lens[1]):\n",
    "            g[0][j] = g[0][j - 1] + d[0][j]\n",
    "\n",
    "        for m in range(1, lens[0]):\n",
    "            for n in range(1, lens[1]):\n",
    "                g1 = g[m][n - 1] + d[m][n]\n",
    "                g2 = g[m - 1][n - 1] + 2 * d[m][n]\n",
    "                g3 = g[m - 1][n] + d[m][n]\n",
    "                gs = [g1, g2, g3]\n",
    "\n",
    "                g[m][n] = min(gs)\n",
    "\n",
    "        min_g = g[-1][-1] / sum(lens)        \n",
    "        return [min_g, g]\n",
    "    \n",
    "    def ShortestPathPlot(self, g):\n",
    "        lens = g.shape\n",
    "        RoutMap = np.zeros(lens)\n",
    "        RoutMap[-1][-1] = 1 \n",
    "\n",
    "        m = lens[0] - 1\n",
    "        n = lens[1] - 1\n",
    "        while m != 0 and n != 0:\n",
    "            refList = [g[m - 1][n], g[m - 1][n - 1], g[m][n - 1]]\n",
    "            minNum = min(refList)\n",
    "            index = refList.index(minNum)\n",
    "\n",
    "            if index == 0:\n",
    "                RoutMap[m - 1][n] = 1\n",
    "                m = m - 1\n",
    "            elif index == 1:\n",
    "                RoutMap[m - 1][n - 1] = 1\n",
    "                m = m - 1\n",
    "                n = n - 1\n",
    "            else:\n",
    "                RoutMap[m][n - 1] = 1\n",
    "                n = n - 1\n",
    "\n",
    "        sns.heatmap(RoutMap)\n",
    "        \n",
    "        "
   ]
  },
  {
   "cell_type": "code",
   "execution_count": 95,
   "metadata": {},
   "outputs": [],
   "source": [
    "talker1 = 1\n",
    "talknum1 = 1\n",
    "\n",
    "talker2 = 1\n",
    "talknum2 = 2"
   ]
  },
  {
   "cell_type": "code",
   "execution_count": 96,
   "metadata": {},
   "outputs": [],
   "source": [
    "wsr = WordSpeechRecognition()\n",
    "data1 = wsr.dataSet(talker1, talknum1)\n",
    "data2 = wsr.dataSet(talker2, talknum2)"
   ]
  },
  {
   "cell_type": "code",
   "execution_count": 97,
   "metadata": {},
   "outputs": [],
   "source": [
    "word1 = 1\n",
    "word2 = 1"
   ]
  },
  {
   "cell_type": "code",
   "execution_count": 98,
   "metadata": {},
   "outputs": [
    {
     "name": "stdout",
     "output_type": "stream",
     "text": [
      "['city011_002', 'IKEBUKURO', '85']\n",
      "['city012_002', 'IKEBUKURO', '94']\n"
     ]
    }
   ],
   "source": [
    "print(data1[1][word1]) \n",
    "print(data2[1][word2])"
   ]
  },
  {
   "cell_type": "code",
   "execution_count": 99,
   "metadata": {},
   "outputs": [
    {
     "data": {
      "text/plain": [
       "<matplotlib.axes._subplots.AxesSubplot at 0x203934995c8>"
      ]
     },
     "execution_count": 99,
     "metadata": {},
     "output_type": "execute_result"
    },
    {
     "data": {
      "image/png": "[encoded data removed]",
      "text/plain": [
       "<Figure size 432x288 with 2 Axes>"
      ]
     },
     "metadata": {
      "needs_background": "light"
     },
     "output_type": "display_data"
    }
   ],
   "source": [
    "d = wsr.CalcDistance(word1, word2, data1, data2) # (word1, word2)\n",
    "sns.heatmap(d)"
   ]
  },
  {
   "cell_type": "code",
   "execution_count": 147,
   "metadata": {},
   "outputs": [
    {
     "name": "stdout",
     "output_type": "stream",
     "text": [
      "[1.0076002022869923\n",
      " array([[  0.62958385,   1.35598004,   2.99761524, ..., 199.50988827,\n",
      "        200.97787658, 202.04049992],\n",
      "       [  1.64924315,   2.37725046,   4.19236816, ..., 178.76737225,\n",
      "        179.88329785, 180.72442601],\n",
      "       [  3.15089606,   3.84521803,   5.51797478, ..., 124.44933076,\n",
      "        125.60240743, 126.76914617],\n",
      "       ...,\n",
      "       [121.92259706, 121.27234695, 110.91546808, ..., 151.67854932,\n",
      "        152.91754574, 154.29727782],\n",
      "       [122.79514712, 122.23108187, 112.0247537 , ..., 153.30589326,\n",
      "        154.25630467, 155.13739142],\n",
      "       [123.52133421, 123.03496201, 113.19380737, ..., 154.90129834,\n",
      "        155.56787111, 156.17803135]])]\n"
     ]
    }
   ],
   "source": [
    "gs = wsr.DPmatching(d)\n",
    "print(gs)"
   ]
  },
  {
   "cell_type": "code",
   "execution_count": 101,
   "metadata": {},
   "outputs": [
    {
     "data": {
      "image/png": "[encoded data removed]",
      "text/plain": [
       "<Figure size 432x288 with 2 Axes>"
      ]
     },
     "metadata": {
      "needs_background": "light"
     },
     "output_type": "display_data"
    }
   ],
   "source": [
    "wsr.ShortestPathPlot(g)"
   ]
  },
  {
   "cell_type": "code",
   "execution_count": 177,
   "metadata": {},
   "outputs": [],
   "source": [
    "gs = [[100], [0]]\n",
    "for i in range(2):\n",
    "    for j in range(10):\n",
    "        d = wsr.CalcDistance(i, j, data1, data2) # (word1, word2)\n",
    "        temp_gs = wsr.DPmatching(d)\n",
    "        \n",
    "        if gs[0] > temp_gs[0]:\n",
    "            gs = temp_gs\n",
    "            muchWordNums[i] = [i, j]\n",
    "        \n",
    "        \n"
   ]
  },
  {
   "cell_type": "code",
   "execution_count": 178,
   "metadata": {},
   "outputs": [
    {
     "data": {
      "text/plain": [
       "[[0, 0], 0]"
      ]
     },
     "execution_count": 178,
     "metadata": {},
     "output_type": "execute_result"
    }
   ],
   "source": [
    "muchWordNums"
   ]
  },
  {
   "cell_type": "code",
   "execution_count": 140,
   "metadata": {},
   "outputs": [
    {
     "ename": "IndexError",
     "evalue": "list index out of range",
     "output_type": "error",
     "traceback": [
      "\u001b[1;31m---------------------------------------------------------------------------\u001b[0m",
      "\u001b[1;31mIndexError\u001b[0m                                Traceback (most recent call last)",
      "\u001b[1;32m<ipython-input-140-910cf9277b3a>\u001b[0m in \u001b[0;36m<module>\u001b[1;34m\u001b[0m\n\u001b[0;32m      1\u001b[0m \u001b[0mmin_gs\u001b[0m \u001b[1;33m=\u001b[0m \u001b[0mlist\u001b[0m\u001b[1;33m(\u001b[0m\u001b[0mrange\u001b[0m\u001b[1;33m(\u001b[0m\u001b[1;36m100\u001b[0m\u001b[1;33m)\u001b[0m\u001b[1;33m)\u001b[0m\u001b[1;33m\u001b[0m\u001b[1;33m\u001b[0m\u001b[0m\n\u001b[0;32m      2\u001b[0m \u001b[1;32mfor\u001b[0m \u001b[0mi\u001b[0m \u001b[1;32min\u001b[0m \u001b[0mrange\u001b[0m\u001b[1;33m(\u001b[0m\u001b[1;36m100\u001b[0m\u001b[1;33m)\u001b[0m\u001b[1;33m:\u001b[0m\u001b[1;33m\u001b[0m\u001b[1;33m\u001b[0m\u001b[0m\n\u001b[1;32m----> 3\u001b[1;33m     \u001b[0mmin_gs\u001b[0m\u001b[1;33m[\u001b[0m\u001b[0mi\u001b[0m\u001b[1;33m]\u001b[0m \u001b[1;33m=\u001b[0m \u001b[0mgs\u001b[0m\u001b[1;33m[\u001b[0m\u001b[0mi\u001b[0m\u001b[1;33m]\u001b[0m\u001b[1;33m[\u001b[0m\u001b[1;36m0\u001b[0m\u001b[1;33m]\u001b[0m\u001b[1;33m\u001b[0m\u001b[1;33m\u001b[0m\u001b[0m\n\u001b[0m\u001b[0;32m      4\u001b[0m \u001b[1;33m\u001b[0m\u001b[0m\n\u001b[0;32m      5\u001b[0m \u001b[0mindex\u001b[0m \u001b[1;33m=\u001b[0m \u001b[0mmin_gs\u001b[0m\u001b[1;33m.\u001b[0m\u001b[0mindex\u001b[0m\u001b[1;33m(\u001b[0m\u001b[0mmin\u001b[0m\u001b[1;33m(\u001b[0m\u001b[0mmin_gs\u001b[0m\u001b[1;33m)\u001b[0m\u001b[1;33m)\u001b[0m\u001b[1;33m\u001b[0m\u001b[1;33m\u001b[0m\u001b[0m\n",
      "\u001b[1;31mIndexError\u001b[0m: list index out of range"
     ]
    }
   ],
   "source": [
    "min_gs = list(range(100))\n",
    "for i in range(100):\n",
    "    min_gs[i] = gs[i][0]\n",
    "    \n",
    "index = min_gs.index(min(min_gs))"
   ]
  },
  {
   "cell_type": "code",
   "execution_count": 123,
   "metadata": {},
   "outputs": [
    {
     "name": "stdout",
     "output_type": "stream",
     "text": [
      "0\n"
     ]
    }
   ],
   "source": [
    "print(index)"
   ]
  },
  {
   "cell_type": "code",
   "execution_count": null,
   "metadata": {},
   "outputs": [],
   "source": []
  }
 ],
 "metadata": {
  "kernelspec": {
   "display_name": "Python 3",
   "language": "python",
   "name": "python3"
  },
  "language_info": {
   "codemirror_mode": {
    "name": "ipython",
    "version": 3
   },
   "file_extension": ".py",
   "mimetype": "text/x-python",
   "name": "python",
   "nbconvert_exporter": "python",
   "pygments_lexer": "ipython3",
   "version": "3.7.6"
  }
 },
 "nbformat": 4,
 "nbformat_minor": 4
}
